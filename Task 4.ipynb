{
 "cells": [
  {
   "cell_type": "markdown",
   "metadata": {},
   "source": [
    "# \"Summer - Task 04  and ARTH task 35👨🏻‍💻 "
   ]
  },
  {
   "cell_type": "markdown",
   "metadata": {},
   "source": [
    "# 🔅 Task 4.1\n",
    "#📌 Create image by yourself Using Python Code "
   ]
  },
  {
   "cell_type": "code",
   "execution_count": 1,
   "metadata": {},
   "outputs": [],
   "source": [
    "import cv2\n",
    "import numpy as np\n",
    "\n",
    "# creating hurt image \n",
    "img = np.zeros([500,500,3])\n",
    "\n",
    "img = cv2.rectangle(img, (100,250),(400,475), [0,0,255],-1)\n",
    "img = cv2.line(img, (100,250),(250,100), [1,1,1],5)\n",
    "img = cv2.line(img, (400,250),(250,100), [1,1,1],5)\n",
    "img = cv2.rectangle(img, (220,300),(280,475), [0,255,0],-1)\n",
    "\n",
    "cv2.imshow('hi',img)\n",
    "cv2.waitKey()\n",
    "cv2.destroyAllWindows()"
   ]
  },
  {
   "cell_type": "markdown",
   "metadata": {},
   "source": [
    "# 🔅 Task 4.2\n",
    "📌 Take 2 image crop some part of both image and swap it. "
   ]
  },
  {
   "cell_type": "code",
   "execution_count": 2,
   "metadata": {},
   "outputs": [],
   "source": [
    "pic1=cv2.resize(cv2.imread('Dhoni.jpg'),(500,500))\n",
    "pic2=cv2.resize(cv2.imread('V.jpg'),(500,500))"
   ]
  },
  {
   "cell_type": "code",
   "execution_count": 3,
   "metadata": {},
   "outputs": [],
   "source": [
    "# 1st image\n",
    "cv2.imshow(\"pic1\",pic1)\n",
    "cv2.waitKey()\n",
    "cv2.destroyAllWindows()"
   ]
  },
  {
   "cell_type": "code",
   "execution_count": 4,
   "metadata": {},
   "outputs": [],
   "source": [
    "#2nd image\n",
    "cv2.imshow(\"pic2\",pic2)\n",
    "cv2.waitKey()\n",
    "cv2.destroyAllWindows()"
   ]
  },
  {
   "cell_type": "code",
   "execution_count": 5,
   "metadata": {},
   "outputs": [],
   "source": [
    "# cropped face of image 1st\n",
    "p = pic2[10:300,170:290]\n",
    "cv2.imshow(\"pic2\",p)\n",
    "cv2.waitKey()\n",
    "cv2.destroyAllWindows()"
   ]
  },
  {
   "cell_type": "code",
   "execution_count": 6,
   "metadata": {},
   "outputs": [],
   "source": [
    "# cropped face of image 2nd\n",
    "p2 = pic1[10:300,170:290]\n",
    "cv2.imshow(\"pic2\",p2)\n",
    "cv2.waitKey()\n",
    "cv2.destroyAllWindows()"
   ]
  },
  {
   "cell_type": "code",
   "execution_count": 7,
   "metadata": {},
   "outputs": [],
   "source": [
    "# swapped face image\n",
    "pic1[10:300,170:290]=pic2[10:300,170:290]\n",
    "cv2.imshow(\"pic1\",pic1)\n",
    "cv2.waitKey()\n",
    "cv2.destroyAllWindows()"
   ]
  },
  {
   "cell_type": "code",
   "execution_count": 8,
   "metadata": {},
   "outputs": [],
   "source": [
    "# swapped face image\n",
    "pic1=cv2.resize(cv2.imread('Dhoni.jpg'),(500,500))\n",
    "pic2=cv2.resize(cv2.imread('V.jpg'),(500,500))\n",
    "pic2[10:300,170:290]=pic1[10:300,170:290]\n",
    "cv2.imshow(\"Task 4.2\",pic2)\n",
    "cv2.waitKey()\n",
    "cv2.destroyAllWindows()\n"
   ]
  },
  {
   "cell_type": "markdown",
   "metadata": {},
   "source": [
    "# 🔅 Task 4.3\n",
    "📌 Take 2 image and combine it to form single image. For example collage "
   ]
  },
  {
   "cell_type": "code",
   "execution_count": 9,
   "metadata": {},
   "outputs": [],
   "source": [
    "pic1 = cv2.imread('MS.jpg')\n",
    "pic2 = cv2.imread('V.jpg')"
   ]
  },
  {
   "cell_type": "code",
   "execution_count": 10,
   "metadata": {},
   "outputs": [],
   "source": [
    "#1st image\n",
    "cv2.imshow(\"pic1\",pic1)\n",
    "cv2.waitKey()\n",
    "cv2.destroyAllWindows()"
   ]
  },
  {
   "cell_type": "code",
   "execution_count": 11,
   "metadata": {},
   "outputs": [],
   "source": [
    "#2nd image\n",
    "cv2.imshow(\"pic1\",pic2)\n",
    "cv2.waitKey()\n",
    "cv2.destroyAllWindows()"
   ]
  },
  {
   "cell_type": "code",
   "execution_count": 12,
   "metadata": {},
   "outputs": [],
   "source": [
    "# vertical collage\n",
    "ab = np.vstack((pic1,pic2))\n",
    "cv2.imshow('hi',ab)\n",
    "cv2.waitKey()\n",
    "cv2.destroyAllWindows()"
   ]
  },
  {
   "cell_type": "code",
   "execution_count": 13,
   "metadata": {},
   "outputs": [],
   "source": [
    "# horizontal collage\n",
    "a = np.hstack((pic1,pic2))\n",
    "cv2.imshow('hi',a)\n",
    "cv2.waitKey()\n",
    "cv2.destroyAllWindows()\n"
   ]
  },
  {
   "cell_type": "code",
   "execution_count": null,
   "metadata": {},
   "outputs": [],
   "source": []
  }
 ],
 "metadata": {
  "kernelspec": {
   "display_name": "Python 3",
   "language": "python",
   "name": "python3"
  },
  "language_info": {
   "codemirror_mode": {
    "name": "ipython",
    "version": 3
   },
   "file_extension": ".py",
   "mimetype": "text/x-python",
   "name": "python",
   "nbconvert_exporter": "python",
   "pygments_lexer": "ipython3",
   "version": "3.8.5"
  }
 },
 "nbformat": 4,
 "nbformat_minor": 4
}
